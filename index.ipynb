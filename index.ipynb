{
 "cells": [
  {
   "cell_type": "code",
   "execution_count": 4,
   "metadata": {
    "ExecuteTime": {
     "end_time": "2023-06-02T18:31:47.343222900Z",
     "start_time": "2023-06-02T18:31:47.319209Z"
    }
   },
   "outputs": [
    {
     "ename": "AttributeError",
     "evalue": "module 'tweepy' has no attribute 'Stream'",
     "output_type": "error",
     "traceback": [
      "\u001B[1;31m---------------------------------------------------------------------------\u001B[0m",
      "\u001B[1;31mAttributeError\u001B[0m                            Traceback (most recent call last)",
      "Cell \u001B[1;32mIn[4], line 16\u001B[0m\n\u001B[0;32m     12\u001B[0m \u001B[38;5;28;01mfrom\u001B[39;00m \u001B[38;5;21;01mtextblob\u001B[39;00m \u001B[38;5;28;01mimport\u001B[39;00m TextBlob\n\u001B[0;32m     14\u001B[0m \u001B[38;5;28;01mimport\u001B[39;00m \u001B[38;5;21;01mtweepy\u001B[39;00m\n\u001B[1;32m---> 16\u001B[0m \u001B[38;5;28;01mclass\u001B[39;00m \u001B[38;5;21;01mMyStreamListener\u001B[39;00m(\u001B[43mtweepy\u001B[49m\u001B[38;5;241;43m.\u001B[39;49m\u001B[43mStream\u001B[49m):\n\u001B[0;32m     17\u001B[0m     \u001B[38;5;28;01mdef\u001B[39;00m \u001B[38;5;21mon_status\u001B[39m(\u001B[38;5;28mself\u001B[39m, status):\n\u001B[0;32m     18\u001B[0m         \u001B[38;5;28mprint\u001B[39m(status\u001B[38;5;241m.\u001B[39mtext)\n",
      "\u001B[1;31mAttributeError\u001B[0m: module 'tweepy' has no attribute 'Stream'"
     ]
    }
   ],
   "source": [
    "#Part of MyStreamListener in Main.ipynb\n",
    "# Streaming With Tweepy\n",
    "# Override tweepy.StreamListener to add logic to on_status\n",
    "\n",
    "import credentials # Import api/access_token keys from credentials.py\n",
    "import settings # Import related setting constants from settings.py\n",
    "\n",
    "import re\n",
    "import tweepy\n",
    "import mysql.connector\n",
    "import pandas as pd\n",
    "from textblob import TextBlob\n",
    "\n",
    "import tweepy\n",
    "\n",
    "class MyStreamListener(tweepy.Stream):\n",
    "    def on_status(self, status):\n",
    "        print(status.text)\n",
    "\n",
    "consumer_key = \"YOUR_CONSUMER_KEY\"\n",
    "consumer_secret = \"YOUR_CONSUMER_SECRET\"\n",
    "access_token = \"YOUR_ACCESS_TOKEN\"\n",
    "access_token_secret = \"YOUR_ACCESS_TOKEN_SECRET\"\n",
    "\n",
    "auth = tweepy.OAuthHandler(consumer_key, consumer_secret)\n",
    "auth.set_access_token(access_token, access_token_secret)\n",
    "\n",
    "my_listener = MyStreamListener()\n",
    "my_stream = tweepy.Stream(auth=auth, listener=my_listener)\n",
    "my_stream.filter(track=[\"python\"])\n"
   ]
  },
  {
   "cell_type": "code",
   "execution_count": null,
   "metadata": {},
   "outputs": [],
   "source": []
  }
 ],
 "metadata": {
  "kernelspec": {
   "display_name": "Python 3 (ipykernel)",
   "language": "python",
   "name": "python3"
  },
  "language_info": {
   "codemirror_mode": {
    "name": "ipython",
    "version": 3
   },
   "file_extension": ".py",
   "mimetype": "text/x-python",
   "name": "python",
   "nbconvert_exporter": "python",
   "pygments_lexer": "ipython3",
   "version": "3.11.3"
  }
 },
 "nbformat": 4,
 "nbformat_minor": 1
}
